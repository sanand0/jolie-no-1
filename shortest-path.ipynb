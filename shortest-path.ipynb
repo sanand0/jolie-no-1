{
 "cells": [
  {
   "cell_type": "markdown",
   "source": [
    "# Shortest path between actors\n",
    "\n",
    "What's the shortest path between two actors, via films they've acted together?"
   ],
   "metadata": {}
  },
  {
   "cell_type": "code",
   "execution_count": 35,
   "source": [
    "import networkx as nx\n",
    "import pandas as pd\n",
    "from collections import Counter"
   ],
   "outputs": [],
   "metadata": {}
  },
  {
   "cell_type": "code",
   "execution_count": 40,
   "source": [
    "# Load the titles\n",
    "title = pd.read_csv('title.basics.tsv.gz', sep='\\t', low_memory=False).set_index('tconst')[['titleType', 'primaryTitle', 'startYear']]\n",
    "title.head()"
   ],
   "outputs": [
    {
     "output_type": "execute_result",
     "data": {
      "text/plain": [
       "          titleType            primaryTitle startYear\n",
       "tconst                                               \n",
       "tt0000001     short              Carmencita      1894\n",
       "tt0000002     short  Le clown et ses chiens      1892\n",
       "tt0000003     short          Pauvre Pierrot      1892\n",
       "tt0000004     short             Un bon bock      1892\n",
       "tt0000005     short        Blacksmith Scene      1893"
      ],
      "text/html": [
       "<div>\n",
       "<style scoped>\n",
       "    .dataframe tbody tr th:only-of-type {\n",
       "        vertical-align: middle;\n",
       "    }\n",
       "\n",
       "    .dataframe tbody tr th {\n",
       "        vertical-align: top;\n",
       "    }\n",
       "\n",
       "    .dataframe thead th {\n",
       "        text-align: right;\n",
       "    }\n",
       "</style>\n",
       "<table border=\"1\" class=\"dataframe\">\n",
       "  <thead>\n",
       "    <tr style=\"text-align: right;\">\n",
       "      <th></th>\n",
       "      <th>titleType</th>\n",
       "      <th>primaryTitle</th>\n",
       "      <th>startYear</th>\n",
       "    </tr>\n",
       "    <tr>\n",
       "      <th>tconst</th>\n",
       "      <th></th>\n",
       "      <th></th>\n",
       "      <th></th>\n",
       "    </tr>\n",
       "  </thead>\n",
       "  <tbody>\n",
       "    <tr>\n",
       "      <th>tt0000001</th>\n",
       "      <td>short</td>\n",
       "      <td>Carmencita</td>\n",
       "      <td>1894</td>\n",
       "    </tr>\n",
       "    <tr>\n",
       "      <th>tt0000002</th>\n",
       "      <td>short</td>\n",
       "      <td>Le clown et ses chiens</td>\n",
       "      <td>1892</td>\n",
       "    </tr>\n",
       "    <tr>\n",
       "      <th>tt0000003</th>\n",
       "      <td>short</td>\n",
       "      <td>Pauvre Pierrot</td>\n",
       "      <td>1892</td>\n",
       "    </tr>\n",
       "    <tr>\n",
       "      <th>tt0000004</th>\n",
       "      <td>short</td>\n",
       "      <td>Un bon bock</td>\n",
       "      <td>1892</td>\n",
       "    </tr>\n",
       "    <tr>\n",
       "      <th>tt0000005</th>\n",
       "      <td>short</td>\n",
       "      <td>Blacksmith Scene</td>\n",
       "      <td>1893</td>\n",
       "    </tr>\n",
       "  </tbody>\n",
       "</table>\n",
       "</div>"
      ]
     },
     "metadata": {},
     "execution_count": 40
    }
   ],
   "metadata": {}
  },
  {
   "cell_type": "code",
   "execution_count": 41,
   "source": [
    "# Load the actors in each film\n",
    "principals = pd.read_csv('title.principals.tsv.gz', sep='\\t')[['tconst', 'nconst', 'category']]\n",
    "principals.head()"
   ],
   "outputs": [
    {
     "output_type": "execute_result",
     "data": {
      "text/plain": [
       "      tconst     nconst         category\n",
       "0  tt0000001  nm1588970             self\n",
       "1  tt0000001  nm0005690         director\n",
       "2  tt0000001  nm0374658  cinematographer\n",
       "3  tt0000002  nm0721526         director\n",
       "4  tt0000002  nm1335271         composer"
      ],
      "text/html": [
       "<div>\n",
       "<style scoped>\n",
       "    .dataframe tbody tr th:only-of-type {\n",
       "        vertical-align: middle;\n",
       "    }\n",
       "\n",
       "    .dataframe tbody tr th {\n",
       "        vertical-align: top;\n",
       "    }\n",
       "\n",
       "    .dataframe thead th {\n",
       "        text-align: right;\n",
       "    }\n",
       "</style>\n",
       "<table border=\"1\" class=\"dataframe\">\n",
       "  <thead>\n",
       "    <tr style=\"text-align: right;\">\n",
       "      <th></th>\n",
       "      <th>tconst</th>\n",
       "      <th>nconst</th>\n",
       "      <th>category</th>\n",
       "    </tr>\n",
       "  </thead>\n",
       "  <tbody>\n",
       "    <tr>\n",
       "      <th>0</th>\n",
       "      <td>tt0000001</td>\n",
       "      <td>nm1588970</td>\n",
       "      <td>self</td>\n",
       "    </tr>\n",
       "    <tr>\n",
       "      <th>1</th>\n",
       "      <td>tt0000001</td>\n",
       "      <td>nm0005690</td>\n",
       "      <td>director</td>\n",
       "    </tr>\n",
       "    <tr>\n",
       "      <th>2</th>\n",
       "      <td>tt0000001</td>\n",
       "      <td>nm0374658</td>\n",
       "      <td>cinematographer</td>\n",
       "    </tr>\n",
       "    <tr>\n",
       "      <th>3</th>\n",
       "      <td>tt0000002</td>\n",
       "      <td>nm0721526</td>\n",
       "      <td>director</td>\n",
       "    </tr>\n",
       "    <tr>\n",
       "      <th>4</th>\n",
       "      <td>tt0000002</td>\n",
       "      <td>nm1335271</td>\n",
       "      <td>composer</td>\n",
       "    </tr>\n",
       "  </tbody>\n",
       "</table>\n",
       "</div>"
      ]
     },
     "metadata": {},
     "execution_count": 41
    }
   ],
   "metadata": {}
  },
  {
   "cell_type": "code",
   "execution_count": 3,
   "source": [
    "# Only consider actors, not directors, composers, etc. Shrinks data to about 40%\n",
    "actors = principals\n",
    "actors = actors[actors.category.isin({'actor', 'actress'})]"
   ],
   "outputs": [],
   "metadata": {}
  },
  {
   "cell_type": "code",
   "execution_count": 4,
   "source": [
    "# Only consider movies, not TV series, etc. Shrinks data to ~5%\n",
    "movies = title[title['titleType'] == 'movie']\n",
    "actors = actors[actors['tconst'].isin(movies.index)]"
   ],
   "outputs": [],
   "metadata": {}
  },
  {
   "cell_type": "code",
   "execution_count": 5,
   "source": [
    "# Delete the original data to save memory\n",
    "del principals"
   ],
   "outputs": [],
   "metadata": {}
  },
  {
   "cell_type": "code",
   "execution_count": 6,
   "source": [
    "# This is what the network looks like\n",
    "actors.head()"
   ],
   "outputs": [
    {
     "output_type": "execute_result",
     "data": {
      "text/plain": [
       "        tconst     nconst category\n",
       "24   tt0000009  nm0063086  actress\n",
       "25   tt0000009  nm0183823    actor\n",
       "26   tt0000009  nm1309758    actor\n",
       "531  tt0000335  nm1010955  actress\n",
       "532  tt0000335  nm1012612    actor"
      ],
      "text/html": [
       "<div>\n",
       "<style scoped>\n",
       "    .dataframe tbody tr th:only-of-type {\n",
       "        vertical-align: middle;\n",
       "    }\n",
       "\n",
       "    .dataframe tbody tr th {\n",
       "        vertical-align: top;\n",
       "    }\n",
       "\n",
       "    .dataframe thead th {\n",
       "        text-align: right;\n",
       "    }\n",
       "</style>\n",
       "<table border=\"1\" class=\"dataframe\">\n",
       "  <thead>\n",
       "    <tr style=\"text-align: right;\">\n",
       "      <th></th>\n",
       "      <th>tconst</th>\n",
       "      <th>nconst</th>\n",
       "      <th>category</th>\n",
       "    </tr>\n",
       "  </thead>\n",
       "  <tbody>\n",
       "    <tr>\n",
       "      <th>24</th>\n",
       "      <td>tt0000009</td>\n",
       "      <td>nm0063086</td>\n",
       "      <td>actress</td>\n",
       "    </tr>\n",
       "    <tr>\n",
       "      <th>25</th>\n",
       "      <td>tt0000009</td>\n",
       "      <td>nm0183823</td>\n",
       "      <td>actor</td>\n",
       "    </tr>\n",
       "    <tr>\n",
       "      <th>26</th>\n",
       "      <td>tt0000009</td>\n",
       "      <td>nm1309758</td>\n",
       "      <td>actor</td>\n",
       "    </tr>\n",
       "    <tr>\n",
       "      <th>531</th>\n",
       "      <td>tt0000335</td>\n",
       "      <td>nm1010955</td>\n",
       "      <td>actress</td>\n",
       "    </tr>\n",
       "    <tr>\n",
       "      <th>532</th>\n",
       "      <td>tt0000335</td>\n",
       "      <td>nm1012612</td>\n",
       "      <td>actor</td>\n",
       "    </tr>\n",
       "  </tbody>\n",
       "</table>\n",
       "</div>"
      ]
     },
     "metadata": {},
     "execution_count": 6
    }
   ],
   "metadata": {}
  },
  {
   "cell_type": "code",
   "execution_count": 7,
   "source": [
    "# Create a networkx graph from this\n",
    "G = nx.from_pandas_edgelist(actors, 'tconst', 'nconst')"
   ],
   "outputs": [],
   "metadata": {}
  },
  {
   "cell_type": "code",
   "execution_count": 8,
   "source": [
    "# Load the name data\n",
    "name = pd.read_csv('name.basics.tsv.gz', sep='\\t').set_index('nconst')[['primaryName', 'birthYear']]"
   ],
   "outputs": [],
   "metadata": {}
  },
  {
   "cell_type": "markdown",
   "source": [
    "Here are some actors whose network we could explore.\n",
    "\n",
    "Bollywood Actors\n",
    "\n",
    "- Rajinikanth: nm0707425\n",
    "- Kamal Haasan\n",
    "- Chiranjeevi\n",
    "- Govinda\n",
    "- Jitendra\n",
    "- Brahmanandam\n",
    "\n",
    "Hollywood Actresses\n",
    "\n",
    "- Anjelina Jolie: nm0001401\n",
    "- Scarlett Johansson\n",
    "- Jessica Alba\n",
    "- Emma Watson\n",
    "- Julia Roberts\n",
    "\n",
    "Crossovers\n",
    "\n",
    "- Priyanka Chopra (Baywatch)\n",
    "- Deepika Padukone (Return of Xander Cage)\n",
    "- Irrfan Khan (Inferno, Jurassic World, The Amazing Spider-Man, A Mighty Heart)\n",
    "- Anil Kapoor (Mission Impossible)\n",
    "- Amrish Puri (Indiana Jones)\n",
    "- Anupam Kher (Bend it Like Beckham, Silver Linings Playbook, Lust)\n",
    "- Om Puri (City of Joy, Wolf, Ghost and the Darkness, Charlie Wilson's War)"
   ],
   "metadata": {}
  },
  {
   "cell_type": "code",
   "execution_count": 9,
   "source": [
    "def path(source, target):\n",
    "    '''Returns the shortest path between two actors'''\n",
    "    source = name[name['primaryName'] == source].index[0]\n",
    "    target = name[name['primaryName'] == target].index[0]\n",
    "    return _n(nx.shortest_path(G, source, target))\n",
    "\n",
    "def _n(path):\n",
    "    return [\n",
    "        (title['primaryTitle'][p] if p.startswith('tt') else name['primaryName'][p])\n",
    "        for p in path\n",
    "    ]"
   ],
   "outputs": [],
   "metadata": {}
  },
  {
   "cell_type": "code",
   "execution_count": 28,
   "source": [
    "def paths(source, target):\n",
    "    '''Returns all the shortest paths between two actors'''\n",
    "    source = name[name['primaryName'] == source].index[0]\n",
    "    target = name[name['primaryName'] == target].index[0]\n",
    "    return [_n(p) for p in nx.all_shortest_paths(G, source, target)]"
   ],
   "outputs": [],
   "metadata": {}
  },
  {
   "cell_type": "code",
   "execution_count": 23,
   "source": [
    "# How can we connect Manorama and Angelina Jolie?\n",
    "# This lists the actor - movie - actor - movie - ... - actor\n",
    "path('Aachi Manorama', 'Angelina Jolie')"
   ],
   "outputs": [
    {
     "output_type": "execute_result",
     "data": {
      "text/plain": [
       "['Aachi Manorama',\n",
       " 'Rikshavodu',\n",
       " 'Paresh Rawal',\n",
       " 'What If?',\n",
       " 'Irrfan Khan',\n",
       " 'A Mighty Heart',\n",
       " 'Angelina Jolie']"
      ]
     },
     "metadata": {},
     "execution_count": 23
    }
   ],
   "metadata": {}
  },
  {
   "cell_type": "code",
   "execution_count": 24,
   "source": [
    "# Rajinikanth is 2 people away from Angelina\n",
    "path('Rajinikanth', 'Angelina Jolie')"
   ],
   "outputs": [
    {
     "output_type": "execute_result",
     "data": {
      "text/plain": [
       "['Rajinikanth',\n",
       " 'Andhaa Kaanoon',\n",
       " 'Amitabh Bachchan',\n",
       " 'Piku',\n",
       " 'Irrfan Khan',\n",
       " 'A Mighty Heart',\n",
       " 'Angelina Jolie']"
      ]
     },
     "metadata": {},
     "execution_count": 24
    }
   ],
   "metadata": {}
  },
  {
   "cell_type": "code",
   "execution_count": 25,
   "source": [
    "# Brahmanandam is 3 people away from Katherine Hepburn\n",
    "path('Brahmanandam', 'Katharine Hepburn')"
   ],
   "outputs": [
    {
     "output_type": "execute_result",
     "data": {
      "text/plain": [
       "['Brahmanandam',\n",
       " 'Little Soldiers',\n",
       " 'Rohini Hattangadi',\n",
       " 'Gandhi',\n",
       " 'John Gielgud',\n",
       " 'Secret Agent',\n",
       " 'Robert Young',\n",
       " 'Spitfire',\n",
       " 'Katharine Hepburn']"
      ]
     },
     "metadata": {},
     "execution_count": 25
    }
   ],
   "metadata": {}
  },
  {
   "cell_type": "code",
   "execution_count": 26,
   "source": [
    "# Govinda is 2 people away from Angelina Jolie\n",
    "path('Govinda', 'Angelina Jolie')"
   ],
   "outputs": [
    {
     "output_type": "execute_result",
     "data": {
      "text/plain": [
       "['Govinda',\n",
       " 'Awaargi',\n",
       " 'Anil Kapoor',\n",
       " 'Besan',\n",
       " 'Irrfan Khan',\n",
       " 'A Mighty Heart',\n",
       " 'Angelina Jolie']"
      ]
     },
     "metadata": {},
     "execution_count": 26
    }
   ],
   "metadata": {}
  },
  {
   "cell_type": "code",
   "execution_count": 30,
   "source": [
    "# These are the paths from Gerard Butler and Priyanka Chopra\n",
    "# (He wants to act with her)\n",
    "len(paths('Gerard Butler', 'Priyanka Chopra')), path('Gerard Butler', 'Priyanka Chopra')"
   ],
   "outputs": [
    {
     "output_type": "execute_result",
     "data": {
      "text/plain": [
       "(39,\n",
       " ['Gerard Butler',\n",
       "  \"Na Nai'a: Legend of the Dolphins\",\n",
       "  'Whoopi Goldberg',\n",
       "  'Incredible Love',\n",
       "  'Akshay Kumar',\n",
       "  'Style',\n",
       "  'Priyanka Chopra'])"
      ]
     },
     "metadata": {},
     "execution_count": 30
    }
   ],
   "metadata": {}
  },
  {
   "cell_type": "code",
   "execution_count": 31,
   "source": [
    "# Stallone wants to act with Salman\n",
    "paths('Sylvester Stallone', 'Salman Khan')"
   ],
   "outputs": [
    {
     "output_type": "execute_result",
     "data": {
      "text/plain": [
       "[['Sylvester Stallone',\n",
       "  'Incredible Love',\n",
       "  'Akshay Kumar',\n",
       "  'Mujhse Shaadi Karogi',\n",
       "  'Salman Khan'],\n",
       " ['Sylvester Stallone',\n",
       "  'Incredible Love',\n",
       "  'Akshay Kumar',\n",
       "  \"Jaan-E-Mann: Let's Fall in Love... Again\",\n",
       "  'Salman Khan']]"
      ]
     },
     "metadata": {},
     "execution_count": 31
    }
   ],
   "metadata": {}
  },
  {
   "cell_type": "code",
   "execution_count": 32,
   "source": [
    "# Kristen wants to act with Hrithik\n",
    "paths('Kristen Stewart', 'Hrithik Roshan')"
   ],
   "outputs": [
    {
     "output_type": "execute_result",
     "data": {
      "text/plain": [
       "[['Kristen Stewart',\n",
       "  'The Messengers',\n",
       "  'Dylan McDermott',\n",
       "  'The Mistress of Spices',\n",
       "  'Aishwarya Rai Bachchan',\n",
       "  'Dhoom 2',\n",
       "  'Hrithik Roshan'],\n",
       " ['Kristen Stewart',\n",
       "  'The Messengers',\n",
       "  'Dylan McDermott',\n",
       "  'The Mistress of Spices',\n",
       "  'Aishwarya Rai Bachchan',\n",
       "  'Jodhaa Akbar',\n",
       "  'Hrithik Roshan'],\n",
       " ['Kristen Stewart',\n",
       "  'The Messengers',\n",
       "  'Dylan McDermott',\n",
       "  'The Mistress of Spices',\n",
       "  'Aishwarya Rai Bachchan',\n",
       "  'Guzaarish',\n",
       "  'Hrithik Roshan']]"
      ]
     },
     "metadata": {},
     "execution_count": 32
    }
   ],
   "metadata": {}
  },
  {
   "cell_type": "code",
   "execution_count": 33,
   "source": [
    "# Daniel Radcliffe wants to act with Shah Rukh Khan\n",
    "len(paths('Daniel Radcliffe', 'Shah Rukh Khan')), path('Daniel Radcliffe', 'Shah Rukh Khan')"
   ],
   "outputs": [
    {
     "output_type": "execute_result",
     "data": {
      "text/plain": [
       "(254,\n",
       " ['Daniel Radcliffe',\n",
       "  \"Harry Potter and the Sorcerer's Stone\",\n",
       "  'Richard Harris',\n",
       "  'The Molly Maguires',\n",
       "  'Sean Connery',\n",
       "  'The Man Who Would Be King',\n",
       "  'Saeed Jaffrey',\n",
       "  'English Babu Desi Mem',\n",
       "  'Shah Rukh Khan'])"
      ]
     },
     "metadata": {},
     "execution_count": 33
    }
   ],
   "metadata": {}
  },
  {
   "cell_type": "code",
   "execution_count": 38,
   "source": [
    "# Let's explore the co-stars of Angelina (nm0001401)\n",
    "c = Counter()\n",
    "for movie in G['nm0001401']:\n",
    "    for n in G[movie]:\n",
    "        c[name.primaryName[n]] += 1\n",
    "\n",
    "# These are the top co-stars across her 40 films\n",
    "c.most_common(10)"
   ],
   "outputs": [
    {
     "output_type": "execute_result",
     "data": {
      "text/plain": [
       "[('Angelina Jolie', 40),\n",
       " ('Jack Black', 3),\n",
       " ('Dustin Hoffman', 3),\n",
       " ('Giovanni Ribisi', 2),\n",
       " ('Robert De Niro', 2),\n",
       " ('Brad Pitt', 2),\n",
       " ('Elle Fanning', 2),\n",
       " ('Bryan Cranston', 2),\n",
       " ('Jonny Lee Miller', 1),\n",
       " ('Jesse Bradford', 1)]"
      ]
     },
     "metadata": {},
     "execution_count": 38
    }
   ],
   "metadata": {}
  },
  {
   "cell_type": "code",
   "execution_count": null,
   "source": [],
   "outputs": [],
   "metadata": {}
  }
 ],
 "metadata": {
  "kernelspec": {
   "name": "python3",
   "display_name": "Python 3.7.3 64-bit ('base': conda)"
  },
  "language_info": {
   "codemirror_mode": {
    "name": "ipython",
    "version": 3
   },
   "file_extension": ".py",
   "mimetype": "text/x-python",
   "name": "python",
   "nbconvert_exporter": "python",
   "pygments_lexer": "ipython3",
   "version": "3.7.3"
  },
  "interpreter": {
   "hash": "84c95a3635107b19ee5434b2da58f6f816ba7e252686adc02d11a5703e3e3bc2"
  }
 },
 "nbformat": 4,
 "nbformat_minor": 2
}