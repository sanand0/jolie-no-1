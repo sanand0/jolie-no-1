{
 "cells": [
  {
   "cell_type": "markdown",
   "source": [
    "# Shortest path between actors\n",
    "\n",
    "What's the shortest path between two actors, via films they've acted together?"
   ],
   "metadata": {}
  },
  {
   "cell_type": "code",
   "execution_count": 5,
   "source": [
    "# Download the data\n",
    "\n",
    "# curl -C - -O https://datasets.imdbws.com/name.basics.tsv.gz\n",
    "# curl -C - -O https://datasets.imdbws.com/title.principals.tsv.gz\n",
    "# curl -C - -O https://datasets.imdbws.com/title.basics.tsv.gz\n",
    "# curl -C - -O https://datasets.imdbws.com/title.akas.tsv.gz\n",
    "\n",
    "# Unzip the files, since the IMDB files have a bit of garbage at the end\n",
    "# and Python's Pandas / gzip libraries can't read them."
   ],
   "outputs": [],
   "metadata": {}
  },
  {
   "cell_type": "code",
   "execution_count": 6,
   "source": [
    "# Load the titles\n",
    "import pandas as pd\n",
    "title = pd.read_csv('title.basics.tsv', sep='\\t', low_memory=False).set_index('tconst')[['titleType', 'primaryTitle', 'startYear']]\n",
    "title.head()"
   ],
   "outputs": [
    {
     "output_type": "execute_result",
     "data": {
      "text/html": [
       "<div>\n",
       "<style scoped>\n",
       "    .dataframe tbody tr th:only-of-type {\n",
       "        vertical-align: middle;\n",
       "    }\n",
       "\n",
       "    .dataframe tbody tr th {\n",
       "        vertical-align: top;\n",
       "    }\n",
       "\n",
       "    .dataframe thead th {\n",
       "        text-align: right;\n",
       "    }\n",
       "</style>\n",
       "<table border=\"1\" class=\"dataframe\">\n",
       "  <thead>\n",
       "    <tr style=\"text-align: right;\">\n",
       "      <th></th>\n",
       "      <th>titleType</th>\n",
       "      <th>primaryTitle</th>\n",
       "      <th>startYear</th>\n",
       "    </tr>\n",
       "    <tr>\n",
       "      <th>tconst</th>\n",
       "      <th></th>\n",
       "      <th></th>\n",
       "      <th></th>\n",
       "    </tr>\n",
       "  </thead>\n",
       "  <tbody>\n",
       "    <tr>\n",
       "      <th>tt0000001</th>\n",
       "      <td>short</td>\n",
       "      <td>Carmencita</td>\n",
       "      <td>1894</td>\n",
       "    </tr>\n",
       "    <tr>\n",
       "      <th>tt0000002</th>\n",
       "      <td>short</td>\n",
       "      <td>Le clown et ses chiens</td>\n",
       "      <td>1892</td>\n",
       "    </tr>\n",
       "    <tr>\n",
       "      <th>tt0000003</th>\n",
       "      <td>short</td>\n",
       "      <td>Pauvre Pierrot</td>\n",
       "      <td>1892</td>\n",
       "    </tr>\n",
       "    <tr>\n",
       "      <th>tt0000004</th>\n",
       "      <td>short</td>\n",
       "      <td>Un bon bock</td>\n",
       "      <td>1892</td>\n",
       "    </tr>\n",
       "    <tr>\n",
       "      <th>tt0000005</th>\n",
       "      <td>short</td>\n",
       "      <td>Blacksmith Scene</td>\n",
       "      <td>1893</td>\n",
       "    </tr>\n",
       "  </tbody>\n",
       "</table>\n",
       "</div>"
      ],
      "text/plain": [
       "          titleType            primaryTitle startYear\n",
       "tconst                                               \n",
       "tt0000001     short              Carmencita      1894\n",
       "tt0000002     short  Le clown et ses chiens      1892\n",
       "tt0000003     short          Pauvre Pierrot      1892\n",
       "tt0000004     short             Un bon bock      1892\n",
       "tt0000005     short        Blacksmith Scene      1893"
      ]
     },
     "metadata": {},
     "execution_count": 6
    }
   ],
   "metadata": {}
  },
  {
   "cell_type": "code",
   "execution_count": 7,
   "source": [
    "# Load the actors in each film\n",
    "actors = pd.read_csv('title.principals.tsv', sep='\\t')[['tconst', 'nconst', 'category']]\n",
    "# Only consider actors, not directors, composers, etc. Shrinks data to about 40%\n",
    "actors = actors[actors.category.isin({'actor', 'actress'})]\n",
    "actors.head()"
   ],
   "outputs": [
    {
     "output_type": "execute_result",
     "data": {
      "text/html": [
       "<div>\n",
       "<style scoped>\n",
       "    .dataframe tbody tr th:only-of-type {\n",
       "        vertical-align: middle;\n",
       "    }\n",
       "\n",
       "    .dataframe tbody tr th {\n",
       "        vertical-align: top;\n",
       "    }\n",
       "\n",
       "    .dataframe thead th {\n",
       "        text-align: right;\n",
       "    }\n",
       "</style>\n",
       "<table border=\"1\" class=\"dataframe\">\n",
       "  <thead>\n",
       "    <tr style=\"text-align: right;\">\n",
       "      <th></th>\n",
       "      <th>tconst</th>\n",
       "      <th>nconst</th>\n",
       "      <th>category</th>\n",
       "    </tr>\n",
       "  </thead>\n",
       "  <tbody>\n",
       "    <tr>\n",
       "      <th>11</th>\n",
       "      <td>tt0000005</td>\n",
       "      <td>nm0443482</td>\n",
       "      <td>actor</td>\n",
       "    </tr>\n",
       "    <tr>\n",
       "      <th>12</th>\n",
       "      <td>tt0000005</td>\n",
       "      <td>nm0653042</td>\n",
       "      <td>actor</td>\n",
       "    </tr>\n",
       "    <tr>\n",
       "      <th>16</th>\n",
       "      <td>tt0000007</td>\n",
       "      <td>nm0179163</td>\n",
       "      <td>actor</td>\n",
       "    </tr>\n",
       "    <tr>\n",
       "      <th>17</th>\n",
       "      <td>tt0000007</td>\n",
       "      <td>nm0183947</td>\n",
       "      <td>actor</td>\n",
       "    </tr>\n",
       "    <tr>\n",
       "      <th>21</th>\n",
       "      <td>tt0000008</td>\n",
       "      <td>nm0653028</td>\n",
       "      <td>actor</td>\n",
       "    </tr>\n",
       "  </tbody>\n",
       "</table>\n",
       "</div>"
      ],
      "text/plain": [
       "       tconst     nconst category\n",
       "11  tt0000005  nm0443482    actor\n",
       "12  tt0000005  nm0653042    actor\n",
       "16  tt0000007  nm0179163    actor\n",
       "17  tt0000007  nm0183947    actor\n",
       "21  tt0000008  nm0653028    actor"
      ]
     },
     "metadata": {},
     "execution_count": 7
    }
   ],
   "metadata": {}
  },
  {
   "cell_type": "code",
   "execution_count": 8,
   "source": [
    "# Only consider movies, not TV series, etc. Shrinks data to ~5%\n",
    "movies = title[title['titleType'] == 'movie']\n",
    "actors = actors[actors['tconst'].isin(movies.index)]\n",
    "# This is what the network looks like\n",
    "actors.head()"
   ],
   "outputs": [
    {
     "output_type": "execute_result",
     "data": {
      "text/html": [
       "<div>\n",
       "<style scoped>\n",
       "    .dataframe tbody tr th:only-of-type {\n",
       "        vertical-align: middle;\n",
       "    }\n",
       "\n",
       "    .dataframe tbody tr th {\n",
       "        vertical-align: top;\n",
       "    }\n",
       "\n",
       "    .dataframe thead th {\n",
       "        text-align: right;\n",
       "    }\n",
       "</style>\n",
       "<table border=\"1\" class=\"dataframe\">\n",
       "  <thead>\n",
       "    <tr style=\"text-align: right;\">\n",
       "      <th></th>\n",
       "      <th>tconst</th>\n",
       "      <th>nconst</th>\n",
       "      <th>category</th>\n",
       "    </tr>\n",
       "  </thead>\n",
       "  <tbody>\n",
       "    <tr>\n",
       "      <th>24</th>\n",
       "      <td>tt0000009</td>\n",
       "      <td>nm0063086</td>\n",
       "      <td>actress</td>\n",
       "    </tr>\n",
       "    <tr>\n",
       "      <th>25</th>\n",
       "      <td>tt0000009</td>\n",
       "      <td>nm0183823</td>\n",
       "      <td>actor</td>\n",
       "    </tr>\n",
       "    <tr>\n",
       "      <th>26</th>\n",
       "      <td>tt0000009</td>\n",
       "      <td>nm1309758</td>\n",
       "      <td>actor</td>\n",
       "    </tr>\n",
       "    <tr>\n",
       "      <th>531</th>\n",
       "      <td>tt0000335</td>\n",
       "      <td>nm1010955</td>\n",
       "      <td>actress</td>\n",
       "    </tr>\n",
       "    <tr>\n",
       "      <th>532</th>\n",
       "      <td>tt0000335</td>\n",
       "      <td>nm1012612</td>\n",
       "      <td>actor</td>\n",
       "    </tr>\n",
       "  </tbody>\n",
       "</table>\n",
       "</div>"
      ],
      "text/plain": [
       "        tconst     nconst category\n",
       "24   tt0000009  nm0063086  actress\n",
       "25   tt0000009  nm0183823    actor\n",
       "26   tt0000009  nm1309758    actor\n",
       "531  tt0000335  nm1010955  actress\n",
       "532  tt0000335  nm1012612    actor"
      ]
     },
     "metadata": {},
     "execution_count": 8
    }
   ],
   "metadata": {}
  },
  {
   "cell_type": "code",
   "execution_count": 9,
   "source": [
    "# Load the name data\n",
    "name = pd.read_csv('name.basics.tsv', sep='\\t').set_index('nconst')[['primaryName', 'birthYear']]"
   ],
   "outputs": [],
   "metadata": {}
  },
  {
   "cell_type": "code",
   "execution_count": 10,
   "source": [
    "# Create a networkx graph from this\n",
    "import networkx as nx\n",
    "G = nx.from_pandas_edgelist(actors, 'tconst', 'nconst')"
   ],
   "outputs": [],
   "metadata": {}
  },
  {
   "cell_type": "markdown",
   "source": [
    "Here are some actors whose network we could explore.\n",
    "\n",
    "Bollywood Actors\n",
    "\n",
    "- Rajinikanth: nm0707425\n",
    "- Kamal Haasan\n",
    "- Chiranjeevi\n",
    "- Govinda\n",
    "- Jitendra\n",
    "- Brahmanandam\n",
    "\n",
    "Hollywood Actresses\n",
    "\n",
    "- Anjelina Jolie: nm0001401\n",
    "- Scarlett Johansson\n",
    "- Jessica Alba\n",
    "- Emma Watson\n",
    "- Julia Roberts\n",
    "\n",
    "Crossovers\n",
    "\n",
    "- Priyanka Chopra (Baywatch)\n",
    "- Deepika Padukone (Return of Xander Cage)\n",
    "- Irrfan Khan (Inferno, Jurassic World, The Amazing Spider-Man, A Mighty Heart)\n",
    "- Anil Kapoor (Mission Impossible)\n",
    "- Amrish Puri (Indiana Jones)\n",
    "- Anupam Kher (Bend it Like Beckham, Silver Linings Playbook, Lust)\n",
    "- Om Puri (City of Joy, Wolf, Ghost and the Darkness, Charlie Wilson's War)"
   ],
   "metadata": {}
  },
  {
   "cell_type": "code",
   "execution_count": 11,
   "source": [
    "def path(source, target):\n",
    "    '''Returns the shortest path between two actors'''\n",
    "    source = name[name['primaryName'] == source].index[0]\n",
    "    target = name[name['primaryName'] == target].index[0]\n",
    "    return names(nx.shortest_path(G, source, target))\n",
    "\n",
    "def names(path):\n",
    "    '''Converts IDs to movie titles or actor names'''\n",
    "    return [\n",
    "        (title['primaryTitle'][p] if p.startswith('tt') else name['primaryName'][p])\n",
    "        for p in path\n",
    "    ]"
   ],
   "outputs": [],
   "metadata": {}
  },
  {
   "cell_type": "code",
   "execution_count": 12,
   "source": [
    "def paths(source, target):\n",
    "    '''Returns all the shortest paths between two actors'''\n",
    "    source = name[name['primaryName'] == source].index[0]\n",
    "    target = name[name['primaryName'] == target].index[0]\n",
    "    return [names(p) for p in nx.all_shortest_paths(G, source, target)]"
   ],
   "outputs": [],
   "metadata": {}
  },
  {
   "cell_type": "code",
   "execution_count": 13,
   "source": [
    "# How can we connect Manorama and Angelina Jolie?\n",
    "# This lists the actor - movie - actor - movie - ... - actor\n",
    "path('Aachi Manorama', 'Angelina Jolie')"
   ],
   "outputs": [
    {
     "output_type": "execute_result",
     "data": {
      "text/plain": [
       "['Aachi Manorama',\n",
       " 'Rikshavodu',\n",
       " 'Paresh Rawal',\n",
       " 'What If?',\n",
       " 'Irrfan Khan',\n",
       " 'A Mighty Heart',\n",
       " 'Angelina Jolie']"
      ]
     },
     "metadata": {},
     "execution_count": 13
    }
   ],
   "metadata": {}
  },
  {
   "cell_type": "code",
   "execution_count": 14,
   "source": [
    "# Rajinikanth is 2 people away from Angelina\n",
    "path('Rajinikanth', 'Angelina Jolie')"
   ],
   "outputs": [
    {
     "output_type": "execute_result",
     "data": {
      "text/plain": [
       "['Rajinikanth',\n",
       " 'Andhaa Kaanoon',\n",
       " 'Amitabh Bachchan',\n",
       " 'Piku',\n",
       " 'Irrfan Khan',\n",
       " 'A Mighty Heart',\n",
       " 'Angelina Jolie']"
      ]
     },
     "metadata": {},
     "execution_count": 14
    }
   ],
   "metadata": {}
  },
  {
   "cell_type": "code",
   "execution_count": 15,
   "source": [
    "# Brahmanandam is 3 people away from Katherine Hepburn\n",
    "path('Brahmanandam', 'Katharine Hepburn')"
   ],
   "outputs": [
    {
     "output_type": "execute_result",
     "data": {
      "text/plain": [
       "['Brahmanandam',\n",
       " 'Little Soldiers',\n",
       " 'Rohini Hattangadi',\n",
       " 'Gandhi',\n",
       " 'John Gielgud',\n",
       " 'Secret Agent',\n",
       " 'Robert Young',\n",
       " 'Spitfire',\n",
       " 'Katharine Hepburn']"
      ]
     },
     "metadata": {},
     "execution_count": 15
    }
   ],
   "metadata": {}
  },
  {
   "cell_type": "code",
   "execution_count": 16,
   "source": [
    "# Govinda is 2 people away from Angelina Jolie\n",
    "path('Govinda', 'Angelina Jolie')"
   ],
   "outputs": [
    {
     "output_type": "execute_result",
     "data": {
      "text/plain": [
       "['Govinda',\n",
       " 'Awaargi',\n",
       " 'Anil Kapoor',\n",
       " 'Besan',\n",
       " 'Irrfan Khan',\n",
       " 'A Mighty Heart',\n",
       " 'Angelina Jolie']"
      ]
     },
     "metadata": {},
     "execution_count": 16
    }
   ],
   "metadata": {}
  },
  {
   "cell_type": "code",
   "execution_count": 17,
   "source": [
    "# These are the paths from Gerard Butler and Priyanka Chopra\n",
    "# (He wants to act with her)\n",
    "len(paths('Gerard Butler', 'Priyanka Chopra')), path('Gerard Butler', 'Priyanka Chopra')"
   ],
   "outputs": [
    {
     "output_type": "execute_result",
     "data": {
      "text/plain": [
       "(39,\n",
       " ['Gerard Butler',\n",
       "  \"Na Nai'a: Legend of the Dolphins\",\n",
       "  'Whoopi Goldberg',\n",
       "  'Incredible Love',\n",
       "  'Akshay Kumar',\n",
       "  'Style',\n",
       "  'Priyanka Chopra'])"
      ]
     },
     "metadata": {},
     "execution_count": 17
    }
   ],
   "metadata": {}
  },
  {
   "cell_type": "code",
   "execution_count": 18,
   "source": [
    "# Stallone wants to act with Salman\n",
    "paths('Sylvester Stallone', 'Salman Khan')"
   ],
   "outputs": [
    {
     "output_type": "execute_result",
     "data": {
      "text/plain": [
       "[['Sylvester Stallone',\n",
       "  'Incredible Love',\n",
       "  'Akshay Kumar',\n",
       "  'Mujhse Shaadi Karogi',\n",
       "  'Salman Khan'],\n",
       " ['Sylvester Stallone',\n",
       "  'Incredible Love',\n",
       "  'Akshay Kumar',\n",
       "  \"Jaan-E-Mann: Let's Fall in Love... Again\",\n",
       "  'Salman Khan']]"
      ]
     },
     "metadata": {},
     "execution_count": 18
    }
   ],
   "metadata": {}
  },
  {
   "cell_type": "code",
   "execution_count": 19,
   "source": [
    "# Kristen wants to act with Hrithik\n",
    "paths('Kristen Stewart', 'Hrithik Roshan')"
   ],
   "outputs": [
    {
     "output_type": "execute_result",
     "data": {
      "text/plain": [
       "[['Kristen Stewart',\n",
       "  'The Messengers',\n",
       "  'Dylan McDermott',\n",
       "  'The Mistress of Spices',\n",
       "  'Aishwarya Rai Bachchan',\n",
       "  'Dhoom 2',\n",
       "  'Hrithik Roshan'],\n",
       " ['Kristen Stewart',\n",
       "  'The Messengers',\n",
       "  'Dylan McDermott',\n",
       "  'The Mistress of Spices',\n",
       "  'Aishwarya Rai Bachchan',\n",
       "  'Jodhaa Akbar',\n",
       "  'Hrithik Roshan'],\n",
       " ['Kristen Stewart',\n",
       "  'The Messengers',\n",
       "  'Dylan McDermott',\n",
       "  'The Mistress of Spices',\n",
       "  'Aishwarya Rai Bachchan',\n",
       "  'Guzaarish',\n",
       "  'Hrithik Roshan']]"
      ]
     },
     "metadata": {},
     "execution_count": 19
    }
   ],
   "metadata": {}
  },
  {
   "cell_type": "code",
   "execution_count": 20,
   "source": [
    "# Daniel Radcliffe wants to act with Shah Rukh Khan\n",
    "len(paths('Daniel Radcliffe', 'Shah Rukh Khan')), path('Daniel Radcliffe', 'Shah Rukh Khan')"
   ],
   "outputs": [
    {
     "output_type": "execute_result",
     "data": {
      "text/plain": [
       "(254,\n",
       " ['Daniel Radcliffe',\n",
       "  \"Harry Potter and the Sorcerer's Stone\",\n",
       "  'Richard Harris',\n",
       "  'The Molly Maguires',\n",
       "  'Sean Connery',\n",
       "  'The Man Who Would Be King',\n",
       "  'Saeed Jaffrey',\n",
       "  'English Babu Desi Mem',\n",
       "  'Shah Rukh Khan'])"
      ]
     },
     "metadata": {},
     "execution_count": 20
    }
   ],
   "metadata": {}
  },
  {
   "cell_type": "code",
   "execution_count": 21,
   "source": [
    "# Let's explore the co-stars of Angelina (nm0001401)\n",
    "from collections import Counter\n",
    "c = Counter()\n",
    "for movie in G['nm0001401']:\n",
    "    for n in G[movie]:\n",
    "        c[name.primaryName[n]] += 1\n",
    "\n",
    "# These are the top co-stars across her 40 films\n",
    "c.most_common(10)"
   ],
   "outputs": [
    {
     "output_type": "execute_result",
     "data": {
      "text/plain": [
       "[('Angelina Jolie', 40),\n",
       " ('Jack Black', 3),\n",
       " ('Dustin Hoffman', 3),\n",
       " ('Giovanni Ribisi', 2),\n",
       " ('Robert De Niro', 2),\n",
       " ('Brad Pitt', 2),\n",
       " ('Elle Fanning', 2),\n",
       " ('Bryan Cranston', 2),\n",
       " ('Jonny Lee Miller', 1),\n",
       " ('Jesse Bradford', 1)]"
      ]
     },
     "metadata": {},
     "execution_count": 21
    }
   ],
   "metadata": {}
  },
  {
   "cell_type": "code",
   "execution_count": 22,
   "source": [
    "# Let's explore the co-stars of Sridevi (nm0004437)\n",
    "c = Counter()\n",
    "for movie in G['nm0004437']:\n",
    "    for n in G[movie]:\n",
    "        c[name.primaryName[n]] += 1\n",
    "c.most_common(10)"
   ],
   "outputs": [
    {
     "output_type": "execute_result",
     "data": {
      "text/plain": [
       "[('Sridevi', 246),\n",
       " ('Krishna Ghattamaneni', 27),\n",
       " ('Rajinikanth', 24),\n",
       " ('Kamal Haasan', 23),\n",
       " ('Gummadi', 21),\n",
       " ('Satyanarayana Kaikala', 19),\n",
       " ('Akkineni Nageshwara Rao', 16),\n",
       " ('Jeetendra', 14),\n",
       " ('Taraka Rama Rao Nandamuri', 14),\n",
       " ('Jaya Prada', 13)]"
      ]
     },
     "metadata": {},
     "execution_count": 22
    }
   ],
   "metadata": {}
  },
  {
   "cell_type": "code",
   "execution_count": 23,
   "source": [
    "# Let's explore the co-stars of Sridevi (nm0000821)\n",
    "c = Counter()\n",
    "for movie in G['nm0000821']:\n",
    "    for n in G[movie]:\n",
    "        c[name.primaryName[n]] += 1\n",
    "c.most_common(10)"
   ],
   "outputs": [
    {
     "output_type": "execute_result",
     "data": {
      "text/plain": [
       "[('Amitabh Bachchan', 184),\n",
       " ('Hema Malini', 14),\n",
       " ('Shashi Kapoor', 12),\n",
       " ('Jaya Bhaduri', 10),\n",
       " ('Rekha', 10),\n",
       " ('Rakhee Gulzar', 10),\n",
       " ('Shatrughan Sinha', 8),\n",
       " ('Pran', 8),\n",
       " ('Parveen Babi', 8),\n",
       " ('Ajay Devgn', 8)]"
      ]
     },
     "metadata": {},
     "execution_count": 23
    }
   ],
   "metadata": {}
  },
  {
   "cell_type": "markdown",
   "source": [
    "# Analyzing the social network of actors\n",
    "\n",
    "This script creates the network of actors to upload into [Kumu](https://kumu.io/sanand0/actor-pairs)."
   ],
   "metadata": {}
  },
  {
   "cell_type": "code",
   "execution_count": 28,
   "source": [
    "# Optionally, restrict data to just a single region (e.g. IN, US, etc)\n",
    "# This loads the region for each title\n",
    "region = pd.read_csv('title.akas.tsv', sep='\\t').set_index('titleId')['region']\n",
    "region.value_counts().head(10)"
   ],
   "outputs": [
    {
     "output_type": "stream",
     "name": "stderr",
     "text": [
      "D:\\anaconda\\3.7\\lib\\site-packages\\IPython\\core\\interactiveshell.py:3166: DtypeWarning: Columns (7) have mixed types. Specify dtype option on import or set low_memory=False.\n",
      "  interactivity=interactivity, compiler=compiler, result=result)\n"
     ]
    },
    {
     "output_type": "execute_result",
     "data": {
      "text/plain": [
       "FR    2355333\n",
       "DE    2316863\n",
       "JP    2305757\n",
       "ES    2305604\n",
       "IT    2294063\n",
       "IN    2258834\n",
       "PT    2257105\n",
       "US     865708\n",
       "\\N     456434\n",
       "GB     185940\n",
       "Name: region, dtype: int64"
      ]
     },
     "metadata": {},
     "execution_count": 28
    }
   ],
   "metadata": {}
  },
  {
   "cell_type": "code",
   "execution_count": 29,
   "source": [
    "def get_pairs(lang=None, min_acted=25, min_pairs=4):\n",
    "    '''\n",
    "    Returns a DataFrame of actor pairs where:\n",
    "    - Each actor has acted in at least min_acted films\n",
    "    - The two actors have acted together in at least min_pairs films\n",
    "    - And (optionally), belong to a region `lang` (IN, UN, etc)\n",
    "    '''\n",
    "    graph = actors\n",
    "    if lang is not None:\n",
    "        graph = graph[graph['tconst'].isin(region[region == lang].index)]\n",
    "    name_freq = graph['nconst'].value_counts()\n",
    "    top_names = name_freq[name_freq > min_acted]\n",
    "    top_actors = graph[graph['nconst'].isin(top_names.index)]\n",
    "\n",
    "    p = top_actors.copy()\n",
    "    p['title'] = p['tconst'].astype('category')\n",
    "    p['name'] = p['nconst'].astype('category')\n",
    "\n",
    "    row = p['title'].cat.codes.values\n",
    "    col = p['name'].cat.codes.values\n",
    "    data = pd.np.ones(len(p), dtype='int')\n",
    "\n",
    "    from scipy.sparse import csr_matrix\n",
    "    matrix = csr_matrix((data, (row, col)))\n",
    "    square = matrix.T * matrix\n",
    "    square.setdiag(0)\n",
    "    square = square.tocoo()\n",
    "\n",
    "    pairs = pd.DataFrame({\n",
    "        'row': square.row,\n",
    "        'col': square.col,\n",
    "        'n': square.data\n",
    "    })\n",
    "    pairs = pairs[pairs.n > min_pairs]\n",
    "\n",
    "    cat = p['name'].cat.categories\n",
    "    pairs = pd.concat([\n",
    "        pairs,\n",
    "        pairs.row.apply(lambda v: name.loc[cat[v]]),\n",
    "        pairs.col.apply(lambda v: name.loc[cat[v]]),\n",
    "    ],\n",
    "                      axis=1)\n",
    "    pairs = pairs.drop(columns=['row', 'col'])\n",
    "    pairs.columns = ['count', 'name1', 'year1', 'name2', 'year2']\n",
    "    return pairs.sort_values('count', ascending=False)"
   ],
   "outputs": [],
   "metadata": {}
  },
  {
   "cell_type": "code",
   "execution_count": 30,
   "source": [
    "# Fix renames in lang=US\n",
    "name.loc['nm0408868'] = name.loc['nm0408867']  # Milton Ingley\n",
    "\n",
    "# Fix renames in lang=IN\n",
    "name.loc['nm9347849'] = name.loc['nm8055229']  # K.V. Shanthi\n",
    "name.loc['nm1275349'] = name.loc['nm1025717']  # Rajlakshmi Devi\n",
    "name.loc['nm7940084'] = name.loc['nm1679381']  # Suruli Rajan\n",
    "name.loc['nm6093386'] = name.loc['nm1153351']  # Sumithra"
   ],
   "outputs": [],
   "metadata": {}
  },
  {
   "cell_type": "code",
   "execution_count": 31,
   "source": [
    "pairs = get_pairs(lang='IN', min_acted=10)"
   ],
   "outputs": [],
   "metadata": {}
  },
  {
   "cell_type": "code",
   "execution_count": 34,
   "source": [
    "pairs[(pairs.year1 > '1980') & (pairs.year1 < '2020')].head(10)"
   ],
   "outputs": [
    {
     "output_type": "execute_result",
     "data": {
      "text/html": [
       "<div>\n",
       "<style scoped>\n",
       "    .dataframe tbody tr th:only-of-type {\n",
       "        vertical-align: middle;\n",
       "    }\n",
       "\n",
       "    .dataframe tbody tr th {\n",
       "        vertical-align: top;\n",
       "    }\n",
       "\n",
       "    .dataframe thead th {\n",
       "        text-align: right;\n",
       "    }\n",
       "</style>\n",
       "<table border=\"1\" class=\"dataframe\">\n",
       "  <thead>\n",
       "    <tr style=\"text-align: right;\">\n",
       "      <th></th>\n",
       "      <th>count</th>\n",
       "      <th>name1</th>\n",
       "      <th>year1</th>\n",
       "      <th>name2</th>\n",
       "      <th>year2</th>\n",
       "    </tr>\n",
       "  </thead>\n",
       "  <tbody>\n",
       "    <tr>\n",
       "      <th>40476</th>\n",
       "      <td>17</td>\n",
       "      <td>Kavya Madhavan</td>\n",
       "      <td>1984</td>\n",
       "      <td>Dileep</td>\n",
       "      <td>1968</td>\n",
       "    </tr>\n",
       "    <tr>\n",
       "      <th>172579</th>\n",
       "      <td>12</td>\n",
       "      <td>Koyel Mallick</td>\n",
       "      <td>1982</td>\n",
       "      <td>Jeet</td>\n",
       "      <td>1978</td>\n",
       "    </tr>\n",
       "    <tr>\n",
       "      <th>51285</th>\n",
       "      <td>12</td>\n",
       "      <td>Prithviraj Sukumaran</td>\n",
       "      <td>1982</td>\n",
       "      <td>Jagathi Sreekumar</td>\n",
       "      <td>1951</td>\n",
       "    </tr>\n",
       "    <tr>\n",
       "      <th>98249</th>\n",
       "      <td>10</td>\n",
       "      <td>Trisha Krishnan</td>\n",
       "      <td>1983</td>\n",
       "      <td>Prakash Raj</td>\n",
       "      <td>1965</td>\n",
       "    </tr>\n",
       "    <tr>\n",
       "      <th>180911</th>\n",
       "      <td>9</td>\n",
       "      <td>Monalisa</td>\n",
       "      <td>1982</td>\n",
       "      <td>Pawan Singh</td>\n",
       "      <td>\\N</td>\n",
       "    </tr>\n",
       "    <tr>\n",
       "      <th>68049</th>\n",
       "      <td>8</td>\n",
       "      <td>Monalisa</td>\n",
       "      <td>1982</td>\n",
       "      <td>Ravi Kishan</td>\n",
       "      <td>1971</td>\n",
       "    </tr>\n",
       "    <tr>\n",
       "      <th>98163</th>\n",
       "      <td>8</td>\n",
       "      <td>Tamannaah Bhatia</td>\n",
       "      <td>1989</td>\n",
       "      <td>Prakash Raj</td>\n",
       "      <td>1965</td>\n",
       "    </tr>\n",
       "    <tr>\n",
       "      <th>27578</th>\n",
       "      <td>8</td>\n",
       "      <td>Aarti Agarwal</td>\n",
       "      <td>1984</td>\n",
       "      <td>Brahmanandam</td>\n",
       "      <td>1956</td>\n",
       "    </tr>\n",
       "    <tr>\n",
       "      <th>132281</th>\n",
       "      <td>8</td>\n",
       "      <td>Prithviraj Sukumaran</td>\n",
       "      <td>1982</td>\n",
       "      <td>Indrajith Sukumaran</td>\n",
       "      <td>1980</td>\n",
       "    </tr>\n",
       "    <tr>\n",
       "      <th>149438</th>\n",
       "      <td>7</td>\n",
       "      <td>Kavya Madhavan</td>\n",
       "      <td>1984</td>\n",
       "      <td>Jayasurya</td>\n",
       "      <td>\\N</td>\n",
       "    </tr>\n",
       "  </tbody>\n",
       "</table>\n",
       "</div>"
      ],
      "text/plain": [
       "        count                 name1 year1                name2 year2\n",
       "40476      17        Kavya Madhavan  1984               Dileep  1968\n",
       "172579     12         Koyel Mallick  1982                 Jeet  1978\n",
       "51285      12  Prithviraj Sukumaran  1982    Jagathi Sreekumar  1951\n",
       "98249      10       Trisha Krishnan  1983          Prakash Raj  1965\n",
       "180911      9              Monalisa  1982          Pawan Singh    \\N\n",
       "68049       8              Monalisa  1982          Ravi Kishan  1971\n",
       "98163       8      Tamannaah Bhatia  1989          Prakash Raj  1965\n",
       "27578       8         Aarti Agarwal  1984         Brahmanandam  1956\n",
       "132281      8  Prithviraj Sukumaran  1982  Indrajith Sukumaran  1980\n",
       "149438      7        Kavya Madhavan  1984            Jayasurya    \\N"
      ]
     },
     "metadata": {},
     "execution_count": 34
    }
   ],
   "metadata": {}
  },
  {
   "cell_type": "code",
   "execution_count": null,
   "source": [],
   "outputs": [],
   "metadata": {}
  }
 ],
 "metadata": {
  "kernelspec": {
   "name": "python3",
   "display_name": "Python 3.7.3 64-bit ('base': conda)"
  },
  "language_info": {
   "codemirror_mode": {
    "name": "ipython",
    "version": 3
   },
   "file_extension": ".py",
   "mimetype": "text/x-python",
   "name": "python",
   "nbconvert_exporter": "python",
   "pygments_lexer": "ipython3",
   "version": "3.7.3"
  },
  "interpreter": {
   "hash": "84c95a3635107b19ee5434b2da58f6f816ba7e252686adc02d11a5703e3e3bc2"
  }
 },
 "nbformat": 4,
 "nbformat_minor": 2
}